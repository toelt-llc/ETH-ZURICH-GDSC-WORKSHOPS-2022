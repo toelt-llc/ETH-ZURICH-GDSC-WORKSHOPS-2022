{
 "cells": [
  {
   "cell_type": "markdown",
   "metadata": {
    "id": "yAHyZgUGrjrS"
   },
   "source": [
    "# Your First Autoencoder\n",
    "\n",
    "Version 1.31\n",
    "\n",
    "(C) 2020 - Umberto Michelucci, Michela Sperti\n",
    "\n",
    "This notebook is part of the book _Applied Deep Learning: a case based approach, **2nd edition**_ from APRESS by [U. Michelucci](mailto:umberto.michelucci@toelt.ai) and [M. Sperti](mailto:michela.sperti@toelt.ai)."
   ]
  },
  {
   "cell_type": "markdown",
   "metadata": {
    "id": "5OqaeuCam0Bl"
   },
   "source": [
    "The purpose of this notebook is to show you what an autoencoder is and what kind of tasks it can solve, through a real case example."
   ]
  },
  {
   "cell_type": "markdown",
   "metadata": {
    "id": "AoofZNYbrnyI"
   },
   "source": [
    "## Notebook Learning Goals\n",
    "\n",
    "At the end of this notebook you will be able to build a simple autoencoder with Keras, using `Dense` layers in Keras and apply it to images, in particular to the [MNIST](http://yann.lecun.com/exdb/mnist/) dataset and the [fashion MNIST](https://keras.io/api/datasets/fashion_mnist/) dataset as examples."
   ]
  },
  {
   "cell_type": "markdown",
   "metadata": {
    "id": "htiQagzW5bb7"
   },
   "source": [
    "## Libraries Import\n",
    "\n",
    "This section contains the necessary libraries (such as tensorflow or pandas) you need to import to run the notebook."
   ]
  },
  {
   "cell_type": "code",
   "execution_count": 1,
   "metadata": {
    "id": "DUNNih8SlLaO"
   },
   "outputs": [],
   "source": [
    "# general libraries\n",
    "import numpy as np\n",
    "import pandas as pd\n",
    "import time\n",
    "import sys\n",
    "import matplotlib.pyplot as plt\n",
    "\n",
    "# tensorflow libraries\n",
    "import tensorflow.keras as keras\n",
    "from tensorflow.keras.layers import Input, Dense\n",
    "from tensorflow.keras.models import Model\n",
    "import tensorflow as tf\n",
    "\n",
    "# sklearn libraries\n",
    "from sklearn import datasets \n",
    "from sklearn.metrics import confusion_matrix \n",
    "from sklearn.model_selection import train_test_split \n",
    "from sklearn.neighbors import KNeighborsClassifier "
   ]
  },
  {
   "cell_type": "markdown",
   "metadata": {
    "id": "-AvHc2f6GbxR"
   },
   "source": [
    "Now we clone the repository for the book to be able to access the modules that we have written for all the jupyter notebooks."
   ]
  },
  {
   "cell_type": "code",
   "execution_count": 2,
   "metadata": {
    "id": "Io-Dq8hTGdiQ"
   },
   "outputs": [],
   "source": [
    "# Referring to the following cell, if you want to re-clone a repository\n",
    "# inside the google colab instance, you need to delete it first. \n",
    "# You can delete the repositories contained in this instance executing \n",
    "# the following two lines of code (deleting the # comment symbol).\n",
    "\n",
    "# !rm -rf ADL-Book-2nd-Ed \n",
    "# !rm -rf BCCD_Dataset"
   ]
  },
  {
   "cell_type": "code",
   "execution_count": 3,
   "metadata": {
    "colab": {
     "base_uri": "https://localhost:8080/"
    },
    "executionInfo": {
     "elapsed": 3165,
     "status": "ok",
     "timestamp": 1608217117034,
     "user": {
      "displayName": "Michela Sperti",
      "photoUrl": "https://lh3.googleusercontent.com/a-/AOh14Gh7mD9r-1Xj0Qve63ZPZx9UHRv0PkVhL5ayiHNv=s64",
      "userId": "13210266879998244642"
     },
     "user_tz": -60
    },
    "id": "_OqIWhSXGgPU",
    "outputId": "20e412a1-d18b-42aa-fef5-1257690a8b79"
   },
   "outputs": [],
   "source": [
    "# This command actually clone the repository of the book in the google colab\n",
    "# instance. In this way this notebook will have access to the modules\n",
    "# we have written for this book.\n",
    "\n",
    "# Please note that in case you have already run this cell, and you run it again\n",
    "# you may get the error message:\n",
    "#\n",
    "# fatal: destination path 'ADL-Book-2nd-Ed' already exists and is not an empty directory.\n",
    "# \n",
    "# In this case you can safely ignore the error message.\n",
    "\n",
    "#!git clone https://github.com/toelt-llc/ADL-Book-2nd-Ed.git"
   ]
  },
  {
   "cell_type": "code",
   "execution_count": 31,
   "metadata": {
    "id": "KzfcWnUuGkVX"
   },
   "outputs": [],
   "source": [
    "# This cell imports some custom written functions that we have created to \n",
    "# make the plotting easier. You don't need \n",
    "# to undertsand the details and you can simply ignore this cell.\n",
    "# Simply run it with CMD+Enter (on Mac) or CTRL+Enter (Windows or Ubuntu) to\n",
    "# import the necessary functions.\n",
    "\n",
    "import sys\n",
    "#sys.path.append('ADL-Book-2nd-Ed/modules/')\n",
    "\n",
    "from plot_confusion_matrix import plot_cm"
   ]
  },
  {
   "cell_type": "markdown",
   "metadata": {
    "id": "6EFOxMEhus07"
   },
   "source": [
    "## MNIST and Fashion MNIST Datasets Import"
   ]
  },
  {
   "cell_type": "markdown",
   "metadata": {
    "id": "R9TWvBlH5cqm"
   },
   "source": [
    "For this notebook we will use two datasets:\n",
    "\n",
    "- [MNIST Dataset](http://yann.lecun.com/exdb/mnist/)\n",
    "- [Fashion MNIST @ Zalando](https://research.zalando.com/welcome/mission/research-projects/fashion-mnist/)\n",
    "\n",
    "You can check the two datasets with the links above. They can be easily imported using Keras. Below you can see how easy is using [```tensorflow.keras.datasets```](https://www.tensorflow.org/api_docs/python/tf/keras/datasets)."
   ]
  },
  {
   "cell_type": "code",
   "execution_count": 5,
   "metadata": {
    "id": "-IQf1yl8uyQ-"
   },
   "outputs": [],
   "source": [
    "from tensorflow.keras.datasets import mnist\n",
    "\n",
    "(mnist_x_train, mnist_y_train), (mnist_x_test, mnist_y_test) = mnist.load_data()"
   ]
  },
  {
   "cell_type": "markdown",
   "metadata": {
    "id": "IUn1Qxoa6LBW"
   },
   "source": [
    "As usual we will do the typical normalisation of the datasets as you can see below. At this point in the book you should be able to understand the code below easily."
   ]
  },
  {
   "cell_type": "code",
   "execution_count": 6,
   "metadata": {
    "id": "8MX96nM1u2Z0"
   },
   "outputs": [],
   "source": [
    "mnist_x_train = mnist_x_train.astype('float32') / 255.\n",
    "mnist_x_test = mnist_x_test.astype('float32') / 255.\n",
    "mnist_x_train = mnist_x_train.reshape((len(mnist_x_train), np.prod(mnist_x_train.shape[1:])))\n",
    "mnist_x_test = mnist_x_test.reshape((len(mnist_x_test), np.prod(mnist_x_test.shape[1:])))"
   ]
  },
  {
   "cell_type": "code",
   "execution_count": 7,
   "metadata": {
    "id": "E8TfQEXmvALJ"
   },
   "outputs": [],
   "source": [
    "from tensorflow.keras.datasets import fashion_mnist\n",
    "\n",
    "(fashion_x_train, fashion_y_train), (fashion_x_test, fashion_y_test) = fashion_mnist.load_data()"
   ]
  },
  {
   "cell_type": "markdown",
   "metadata": {
    "id": "yt0iAVSz6XOA"
   },
   "source": [
    "Note that we are doing the same normalisation for the fashion mnist datasets as for the classical MNIST."
   ]
  },
  {
   "cell_type": "code",
   "execution_count": 8,
   "metadata": {
    "id": "Lw3IFaPeu_3s"
   },
   "outputs": [],
   "source": [
    "fashion_x_train = fashion_x_train.astype('float32') / 255.\n",
    "fashion_x_test = fashion_x_test.astype('float32') / 255.\n",
    "fashion_x_train = fashion_x_train.reshape((len(fashion_x_train), np.prod(fashion_x_train.shape[1:])))\n",
    "fashion_x_test = fashion_x_test.reshape((len(fashion_x_test), np.prod(fashion_x_test.shape[1:])))"
   ]
  },
  {
   "cell_type": "markdown",
   "metadata": {
    "id": "gsxM-4FYunrK"
   },
   "source": [
    "## Function to Create the Autoencoders"
   ]
  },
  {
   "cell_type": "markdown",
   "metadata": {
    "id": "cjqQlYFY6dEH"
   },
   "source": [
    "Now we need to create the ```keras``` models. An autoencoder is made of two main parts: an _encoder_ and a _decoder_. The function below ```create_autoencoders()``` returns the following parts as separate models:\n",
    "\n",
    "- the encoder \n",
    "- the decoder\n",
    "- the complete model, when the encoder and decoder are joined in one model."
   ]
  },
  {
   "cell_type": "code",
   "execution_count": 9,
   "metadata": {
    "id": "9e3_MUYyuHp-"
   },
   "outputs": [],
   "source": [
    "def create_autoencoders(feature_layer_dim = 16):\n",
    "\n",
    "  input_img = Input(shape = (784,), name = 'Input_Layer')\n",
    "  # 784 is the total number of pixels of MNIST images\n",
    "  \n",
    "  # The layer encoded has a dimension equal to feature_layer_dim and contains\n",
    "  # the encoded input (therefore the name)\n",
    "  encoded = Dense(feature_layer_dim, activation = 'relu', name = 'Encoded_Features')(input_img)\n",
    "  decoded = Dense(784, activation = 'sigmoid', name = 'Decoded_Input')(encoded)\n",
    "\n",
    "  autoencoder = Model(input_img, decoded)\n",
    "  encoder = Model(input_img, encoded)\n",
    "\n",
    "  encoded_input = Input(shape = (feature_layer_dim,))\n",
    "  decoder = autoencoder.layers[-1]\n",
    "  decoder = Model(encoded_input, decoder(encoded_input))\n",
    "\n",
    "  return autoencoder, encoder, decoder"
   ]
  },
  {
   "cell_type": "markdown",
   "metadata": {
    "id": "Y6juVqpJvSQg"
   },
   "source": [
    "## Autoencoder with Layers with $(784,16,784)$ Neurons (MNIST Dataset)\n",
    "\n",
    "As a first step let's create an autoencoder with the layer dimensions of $(784, 16, 784)$.\n",
    "\n",
    "\n"
   ]
  },
  {
   "cell_type": "code",
   "execution_count": 10,
   "metadata": {
    "id": "U5BaDqnbuY-I"
   },
   "outputs": [
    {
     "name": "stderr",
     "output_type": "stream",
     "text": [
      "2022-05-04 18:00:01.944918: I tensorflow/core/platform/cpu_feature_guard.cc:151] This TensorFlow binary is optimized with oneAPI Deep Neural Network Library (oneDNN) to use the following CPU instructions in performance-critical operations:  AVX2 FMA\n",
      "To enable them in other operations, rebuild TensorFlow with the appropriate compiler flags.\n"
     ]
    }
   ],
   "source": [
    "# 16 is the number of latent features of our autoencoder\n",
    "autoencoder, encoder, decoder = create_autoencoders(16) "
   ]
  },
  {
   "cell_type": "code",
   "execution_count": 11,
   "metadata": {
    "colab": {
     "base_uri": "https://localhost:8080/",
     "height": 312
    },
    "executionInfo": {
     "elapsed": 4437,
     "status": "ok",
     "timestamp": 1608217118340,
     "user": {
      "displayName": "Michela Sperti",
      "photoUrl": "https://lh3.googleusercontent.com/a-/AOh14Gh7mD9r-1Xj0Qve63ZPZx9UHRv0PkVhL5ayiHNv=s64",
      "userId": "13210266879998244642"
     },
     "user_tz": -60
    },
    "id": "A157gXaewJI2",
    "outputId": "8fdfa88b-e9b2-4fee-dd18-05a04748b9fc"
   },
   "outputs": [
    {
     "data": {
      "image/png": "[encoded data removed]",
      "text/plain": [
       "<IPython.core.display.Image object>"
      ]
     },
     "execution_count": 11,
     "metadata": {},
     "output_type": "execute_result"
    }
   ],
   "source": [
    "keras.utils.plot_model(autoencoder, show_shapes = True)"
   ]
  },
  {
   "cell_type": "markdown",
   "metadata": {
    "id": "9jNv0UMqwvJ9"
   },
   "source": [
    "As for any Keras model we need to compile the model and then fit it to the data. As you can see we don't need any custom code to work with autoencoders. A simple model **definition** $\\rightarrow$ **compile** $\\rightarrow$ **fit** is enough."
   ]
  },
  {
   "cell_type": "code",
   "execution_count": 12,
   "metadata": {
    "id": "rFv4sGg4mBkB"
   },
   "outputs": [],
   "source": [
    "autoencoder.compile(optimizer = 'adam', loss = 'binary_crossentropy')"
   ]
  },
  {
   "cell_type": "code",
   "execution_count": 13,
   "metadata": {
    "id": "uxaS4XlLmLI7"
   },
   "outputs": [],
   "source": [
    "history = autoencoder.fit(mnist_x_train, mnist_x_train,\n",
    "                          epochs = 30,\n",
    "                          batch_size = 256,\n",
    "                          shuffle = True,\n",
    "                          validation_data = (mnist_x_test, mnist_x_test),\n",
    "                          verbose = 0)"
   ]
  },
  {
   "cell_type": "code",
   "execution_count": 14,
   "metadata": {
    "id": "ZaRLBur6mM2Y"
   },
   "outputs": [],
   "source": [
    "encoded_imgs = encoder.predict(mnist_x_test)\n",
    "decoded_imgs = decoder.predict(encoded_imgs)"
   ]
  },
  {
   "cell_type": "markdown",
   "metadata": {
    "id": "vFwBP1CdKWLi"
   },
   "source": [
    "### Some Notes about Compression"
   ]
  },
  {
   "cell_type": "markdown",
   "metadata": {
    "id": "U1V3Z9_X-FPY"
   },
   "source": [
    "Since we have saved both the encoder and the decoder we can generate an encoded version of the images. Note that the data type of the images is ```float32```. Each ```float32``` require 4 bytes. The original data ```mnist_x_test``` has a shape of ```(10000,784)```. That means that the space needed to save this array is \n",
    "\n",
    "$$\n",
    "10000 \\textrm{ images} \\times 784 \\textrm{ pixels}\\times 4 \\textrm{ bytes} = 29 \\textrm{ Mb}\n",
    "$$\n",
    "\n",
    "The encoded images require quite less space. Infact the size needed is\n",
    "\n",
    "$$\n",
    "10000 \\textrm{ images}\\times 16 \\textrm{ latent features}\\times 4 \\textrm{ bytes} = 625 \\textrm{ Kb}\n",
    "$$\n",
    "\n",
    "so if we accept the loss in quality in the compressed data we have achieved an incredible compression ratio of ca. $46$. It is easy to check those sizes by saving the data in a file and checking the file size. Note that the file size will be bigger, since there is some additional information that needs to be saved."
   ]
  },
  {
   "cell_type": "code",
   "execution_count": 50,
   "metadata": {
    "colab": {
     "base_uri": "https://localhost:8080/"
    },
    "executionInfo": {
     "elapsed": 59273,
     "status": "ok",
     "timestamp": 1608217173195,
     "user": {
      "displayName": "Michela Sperti",
      "photoUrl": "https://lh3.googleusercontent.com/a-/AOh14Gh7mD9r-1Xj0Qve63ZPZx9UHRv0PkVhL5ayiHNv=s64",
      "userId": "13210266879998244642"
     },
     "user_tz": -60
    },
    "id": "E1lYjk66-ZQs",
    "outputId": "3dd9cf94-c81c-4d1c-9ce9-9c4fe39ac462"
   },
   "outputs": [
    {
     "name": "stdout",
     "output_type": "stream",
     "text": [
      "-rw-r--r--  1 umberto  staff  31360128 May  5 13:45 temp_orig.npy\n"
     ]
    }
   ],
   "source": [
    "np.save('temp_orig', mnist_x_test)\n",
    "! ls -al temp_orig*"
   ]
  },
  {
   "cell_type": "code",
   "execution_count": 51,
   "metadata": {
    "colab": {
     "base_uri": "https://localhost:8080/"
    },
    "executionInfo": {
     "elapsed": 59267,
     "status": "ok",
     "timestamp": 1608217173196,
     "user": {
      "displayName": "Michela Sperti",
      "photoUrl": "https://lh3.googleusercontent.com/a-/AOh14Gh7mD9r-1Xj0Qve63ZPZx9UHRv0PkVhL5ayiHNv=s64",
      "userId": "13210266879998244642"
     },
     "user_tz": -60
    },
    "id": "rjRKH8t1NBBP",
    "outputId": "7e67975b-6979-489e-c67f-380a7c54158d"
   },
   "outputs": [
    {
     "name": "stdout",
     "output_type": "stream",
     "text": [
      "-rw-r--r--  1 umberto  staff  320128 May  5 13:45 temp_encoded.npy\n"
     ]
    }
   ],
   "source": [
    "np.save('temp_encoded', encoded_imgs)\n",
    "! ls -al temp_encoded*"
   ]
  },
  {
   "cell_type": "markdown",
   "metadata": {
    "id": "xZ83T02HNG23"
   },
   "source": [
    "### Reconstructed Images Analysis\n",
    "\n",
    "As noted above we have basically compressed our input images. But at what price? In the images below you can see what is the effect of having only 16 neurons in the middle layer.\n",
    "\n"
   ]
  },
  {
   "cell_type": "code",
   "execution_count": 17,
   "metadata": {
    "colab": {
     "base_uri": "https://localhost:8080/",
     "height": 205
    },
    "executionInfo": {
     "elapsed": 60354,
     "status": "ok",
     "timestamp": 1608217174290,
     "user": {
      "displayName": "Michela Sperti",
      "photoUrl": "https://lh3.googleusercontent.com/a-/AOh14Gh7mD9r-1Xj0Qve63ZPZx9UHRv0PkVhL5ayiHNv=s64",
      "userId": "13210266879998244642"
     },
     "user_tz": -60
    },
    "id": "UzqmwmRznzSH",
    "outputId": "31e5dfb6-5c38-4558-e634-0ba7eaf8fbd1"
   },
   "outputs": [
    {
     "data": {
      "image/png": "[encoded data removed]",
      "text/plain": [
       "<Figure size 1440x288 with 20 Axes>"
      ]
     },
     "metadata": {
      "needs_background": "light"
     },
     "output_type": "display_data"
    }
   ],
   "source": [
    "n = 10  # how many digits we will display\n",
    "\n",
    "fig = plt.figure(figsize = (20, 4))\n",
    "\n",
    "for i in range(n):\n",
    "\n",
    "    # display original\n",
    "    ax = plt.subplot(2, n, i + 1)\n",
    "    plt.imshow(mnist_x_test[i].reshape(28, 28))\n",
    "    plt.gray()\n",
    "    ax.get_xaxis().set_visible(False)\n",
    "    ax.get_yaxis().set_visible(False)\n",
    "\n",
    "    # display reconstruction\n",
    "    ax = plt.subplot(2, n, i + 1 + n)\n",
    "    plt.imshow(decoded_imgs[i].reshape(28, 28))\n",
    "    plt.gray()\n",
    "    ax.get_xaxis().set_visible(False)\n",
    "    ax.get_yaxis().set_visible(False)\n",
    "    \n",
    "plt.tight_layout()\n",
    "plt.show()"
   ]
  },
  {
   "cell_type": "markdown",
   "metadata": {
    "id": "f7O6b2A0tP8j"
   },
   "source": [
    "## Autoencoder with Layers with $(784,64,784)$ Neurons (MNIST Dataset)\n",
    "\n",
    "\n",
    "\n",
    "\n",
    "\n"
   ]
  },
  {
   "cell_type": "code",
   "execution_count": 18,
   "metadata": {
    "id": "NFpLzQ0MtTkH"
   },
   "outputs": [],
   "source": [
    "# now we use 64 latent features\n",
    "autoencoder, encoder, decoder = create_autoencoders(64) "
   ]
  },
  {
   "cell_type": "code",
   "execution_count": 19,
   "metadata": {
    "id": "cusA73eRtWgW"
   },
   "outputs": [],
   "source": [
    "autoencoder.compile(optimizer = 'adam', loss = 'binary_crossentropy')"
   ]
  },
  {
   "cell_type": "code",
   "execution_count": 20,
   "metadata": {
    "colab": {
     "base_uri": "https://localhost:8080/"
    },
    "executionInfo": {
     "elapsed": 125308,
     "status": "ok",
     "timestamp": 1608217239260,
     "user": {
      "displayName": "Michela Sperti",
      "photoUrl": "https://lh3.googleusercontent.com/a-/AOh14Gh7mD9r-1Xj0Qve63ZPZx9UHRv0PkVhL5ayiHNv=s64",
      "userId": "13210266879998244642"
     },
     "user_tz": -60
    },
    "id": "zxSZA8tdtYRj",
    "outputId": "92affbf5-f938-4be6-98e1-a2b024ecd659"
   },
   "outputs": [
    {
     "data": {
      "text/plain": [
       "<keras.callbacks.History at 0x7fbb088fd3c8>"
      ]
     },
     "execution_count": 20,
     "metadata": {},
     "output_type": "execute_result"
    }
   ],
   "source": [
    "autoencoder.fit(mnist_x_train, mnist_x_train,\n",
    "                epochs = 30,\n",
    "                batch_size = 256,\n",
    "                shuffle = True,\n",
    "                validation_data = (mnist_x_test, mnist_x_test),\n",
    "                verbose = 0)"
   ]
  },
  {
   "cell_type": "code",
   "execution_count": 21,
   "metadata": {
    "id": "SzN50nAoteN8"
   },
   "outputs": [],
   "source": [
    "encoded_imgs = encoder.predict(mnist_x_test)\n",
    "decoded_imgs = decoder.predict(encoded_imgs)"
   ]
  },
  {
   "cell_type": "code",
   "execution_count": 22,
   "metadata": {
    "colab": {
     "base_uri": "https://localhost:8080/",
     "height": 205
    },
    "executionInfo": {
     "elapsed": 126930,
     "status": "ok",
     "timestamp": 1608217240893,
     "user": {
      "displayName": "Michela Sperti",
      "photoUrl": "https://lh3.googleusercontent.com/a-/AOh14Gh7mD9r-1Xj0Qve63ZPZx9UHRv0PkVhL5ayiHNv=s64",
      "userId": "13210266879998244642"
     },
     "user_tz": -60
    },
    "id": "CW5Afyoltf3M",
    "outputId": "347875f4-0877-44fe-e7b7-af26fb51ed53"
   },
   "outputs": [
    {
     "data": {
      "image/png": "[encoded data removed]",
      "text/plain": [
       "<Figure size 1440x288 with 20 Axes>"
      ]
     },
     "metadata": {
      "needs_background": "light"
     },
     "output_type": "display_data"
    }
   ],
   "source": [
    "n = 10  # how many digits we will display\n",
    "\n",
    "fig = plt.figure(figsize=(20, 4))\n",
    "\n",
    "for i in range(n):\n",
    "\n",
    "    # display original\n",
    "    ax = plt.subplot(2, n, i + 1)\n",
    "    plt.imshow(mnist_x_test[i].reshape(28, 28))\n",
    "    plt.gray()\n",
    "    ax.get_xaxis().set_visible(False)\n",
    "    ax.get_yaxis().set_visible(False)\n",
    "\n",
    "    # display reconstruction\n",
    "    ax = plt.subplot(2, n, i + 1 + n)\n",
    "    plt.imshow(decoded_imgs[i].reshape(28, 28))\n",
    "    plt.gray()\n",
    "    ax.get_xaxis().set_visible(False)\n",
    "    ax.get_yaxis().set_visible(False)\n",
    "    \n",
    "plt.tight_layout()\n",
    "plt.show()"
   ]
  },
  {
   "cell_type": "markdown",
   "metadata": {
    "id": "-ow0kHnTzupz"
   },
   "source": [
    "## Autoencoder with Layers with $(784,8,784)$ Neurons (MNIST Dataset)\n",
    "\n",
    "We can check how, reducing the number of neurons in the middle layer, the quality of the reconstruction drops since the dimensionality reduction is too extreme in this case."
   ]
  },
  {
   "cell_type": "code",
   "execution_count": 23,
   "metadata": {
    "colab": {
     "base_uri": "https://localhost:8080/"
    },
    "executionInfo": {
     "elapsed": 175408,
     "status": "ok",
     "timestamp": 1608217289378,
     "user": {
      "displayName": "Michela Sperti",
      "photoUrl": "https://lh3.googleusercontent.com/a-/AOh14Gh7mD9r-1Xj0Qve63ZPZx9UHRv0PkVhL5ayiHNv=s64",
      "userId": "13210266879998244642"
     },
     "user_tz": -60
    },
    "id": "rwGSERoswp7Y",
    "outputId": "de2a0bf8-8661-4645-967d-04b8c2b2f6ff"
   },
   "outputs": [
    {
     "data": {
      "text/plain": [
       "<keras.callbacks.History at 0x7fbb5c1eedd8>"
      ]
     },
     "execution_count": 23,
     "metadata": {},
     "output_type": "execute_result"
    }
   ],
   "source": [
    "# in this final example, we use only 8 latent features\n",
    "autoencoder, encoder, decoder = create_autoencoders(8) \n",
    "autoencoder.compile(optimizer = 'adam', loss = 'binary_crossentropy')\n",
    "autoencoder.fit(mnist_x_train, mnist_x_train,\n",
    "                epochs = 30,\n",
    "                batch_size = 256,\n",
    "                shuffle = True,\n",
    "                validation_data = (mnist_x_test, mnist_x_test),\n",
    "                verbose = 0)"
   ]
  },
  {
   "cell_type": "code",
   "execution_count": 24,
   "metadata": {
    "id": "GLglZqluwxX3"
   },
   "outputs": [],
   "source": [
    "encoded_imgs = encoder.predict(mnist_x_test)\n",
    "decoded_imgs = decoder.predict(encoded_imgs)"
   ]
  },
  {
   "cell_type": "code",
   "execution_count": 25,
   "metadata": {
    "colab": {
     "base_uri": "https://localhost:8080/",
     "height": 205
    },
    "executionInfo": {
     "elapsed": 177163,
     "status": "ok",
     "timestamp": 1608217291144,
     "user": {
      "displayName": "Michela Sperti",
      "photoUrl": "https://lh3.googleusercontent.com/a-/AOh14Gh7mD9r-1Xj0Qve63ZPZx9UHRv0PkVhL5ayiHNv=s64",
      "userId": "13210266879998244642"
     },
     "user_tz": -60
    },
    "id": "H4EdcV8uw0VR",
    "outputId": "71b29bc5-8389-40be-ab04-79dac8896b36"
   },
   "outputs": [
    {
     "data": {
      "image/png": "[encoded data removed]",
      "text/plain": [
       "<Figure size 1440x288 with 20 Axes>"
      ]
     },
     "metadata": {
      "needs_background": "light"
     },
     "output_type": "display_data"
    }
   ],
   "source": [
    "n = 10  # how many digits we will display\n",
    "\n",
    "fig = plt.figure(figsize=(20, 4))\n",
    "\n",
    "for i in range(n):\n",
    "\n",
    "    # display original\n",
    "    ax = plt.subplot(2, n, i + 1)\n",
    "    plt.imshow(mnist_x_test[i].reshape(28, 28))\n",
    "    plt.gray()\n",
    "    ax.get_xaxis().set_visible(False)\n",
    "    ax.get_yaxis().set_visible(False)\n",
    "\n",
    "    # display reconstruction\n",
    "    ax = plt.subplot(2, n, i + 1 + n)\n",
    "    plt.imshow(decoded_imgs[i].reshape(28, 28))\n",
    "    plt.gray()\n",
    "    ax.get_xaxis().set_visible(False)\n",
    "    ax.get_yaxis().set_visible(False)\n",
    "    \n",
    "plt.tight_layout()\n",
    "plt.show()\n",
    "\n",
    "#fig.savefig('comparison_8.png')"
   ]
  },
  {
   "cell_type": "markdown",
   "metadata": {
    "id": "2fD0-hMwzZT1"
   },
   "source": [
    "## Classification with the Latent Features (MNIST Dataset)\n",
    "Now let's check how we can use the latent features, or in other words the output of the middle layer, to do some classification. Are we loosing much accuracy? What about performance of the algorithms? Let's check some examples."
   ]
  },
  {
   "cell_type": "markdown",
   "metadata": {
    "id": "T_1NiEZg_2oD"
   },
   "source": [
    "### KNN Study\n",
    "\n",
    "The first algorithm that we can test is KNN. To do it we can simply use ```sklearn```."
   ]
  },
  {
   "cell_type": "code",
   "execution_count": 26,
   "metadata": {
    "id": "3Hu9WJ_b4CjW"
   },
   "outputs": [],
   "source": [
    "encoded_train_imgs = encoder.predict(mnist_x_train)\n",
    "# decoded_imgs = decoder.predict(encoded_imgs)"
   ]
  },
  {
   "cell_type": "markdown",
   "metadata": {
    "id": "RL98uuEV2dqg"
   },
   "source": [
    "Note how the variable ```encoded_train_imgs``` has only 8 features (remember the last autoencoders we trained had only 8 neurons in the middle layer). The original dataset had 784 features (the pixel gray values of the images)."
   ]
  },
  {
   "cell_type": "code",
   "execution_count": 27,
   "metadata": {
    "colab": {
     "base_uri": "https://localhost:8080/"
    },
    "executionInfo": {
     "elapsed": 178661,
     "status": "ok",
     "timestamp": 1608217292653,
     "user": {
      "displayName": "Michela Sperti",
      "photoUrl": "https://lh3.googleusercontent.com/a-/AOh14Gh7mD9r-1Xj0Qve63ZPZx9UHRv0PkVhL5ayiHNv=s64",
      "userId": "13210266879998244642"
     },
     "user_tz": -60
    },
    "id": "eMy5q_5F2h7b",
    "outputId": "c9884920-cd7b-43b6-fd67-5d4aedd4092e"
   },
   "outputs": [
    {
     "data": {
      "text/plain": [
       "(60000, 8)"
      ]
     },
     "execution_count": 27,
     "metadata": {},
     "output_type": "execute_result"
    }
   ],
   "source": [
    "encoded_train_imgs.shape"
   ]
  },
  {
   "cell_type": "markdown",
   "metadata": {
    "id": "nlagb73X2xm4"
   },
   "source": [
    "We will now train the classifier with the encoded images and we will measure how long it takes for the training. Later we will do the same with the original dataset and compare results and running time."
   ]
  },
  {
   "cell_type": "code",
   "execution_count": 28,
   "metadata": {
    "colab": {
     "base_uri": "https://localhost:8080/"
    },
    "executionInfo": {
     "elapsed": 179917,
     "status": "ok",
     "timestamp": 1608217293916,
     "user": {
      "displayName": "Michela Sperti",
      "photoUrl": "https://lh3.googleusercontent.com/a-/AOh14Gh7mD9r-1Xj0Qve63ZPZx9UHRv0PkVhL5ayiHNv=s64",
      "userId": "13210266879998244642"
     },
     "user_tz": -60
    },
    "id": "PEZuHJg8ff7j",
    "outputId": "65618de0-0fd2-4490-ae8a-9ae58654dee2"
   },
   "outputs": [
    {
     "name": "stdout",
     "output_type": "stream",
     "text": [
      "The accuracy on the test set is:  0.8956\n",
      "Running time 0.678678035736084 sec.\n"
     ]
    }
   ],
   "source": [
    "start = time.time()\n",
    " \n",
    "# training a KNN classifier \n",
    "knn = KNeighborsClassifier(n_neighbors = 7).fit(encoded_train_imgs, mnist_y_train) \n",
    "  \n",
    "# accuracy on X_test \n",
    "accuracy = knn.score(encoded_imgs, mnist_y_test) \n",
    "print('The accuracy on the test set is: ', accuracy)\n",
    "\n",
    "end = time.time()\n",
    "\n",
    "print('Running time', end - start, 'sec.') "
   ]
  },
  {
   "cell_type": "markdown",
   "metadata": {
    "id": "huxTT5p03CQ1"
   },
   "source": [
    "With just the 8 features we get an incredible 90% of accuracy in 1.2 sec. "
   ]
  },
  {
   "cell_type": "code",
   "execution_count": 32,
   "metadata": {
    "id": "5cef3h6oHJ6T"
   },
   "outputs": [],
   "source": [
    "# The following line contains the class with the method that enables confusion matrix plotting.\n",
    "pcm = plot_cm()"
   ]
  },
  {
   "cell_type": "code",
   "execution_count": 33,
   "metadata": {
    "colab": {
     "base_uri": "https://localhost:8080/",
     "height": 401
    },
    "executionInfo": {
     "elapsed": 183132,
     "status": "ok",
     "timestamp": 1608217297141,
     "user": {
      "displayName": "Michela Sperti",
      "photoUrl": "https://lh3.googleusercontent.com/a-/AOh14Gh7mD9r-1Xj0Qve63ZPZx9UHRv0PkVhL5ayiHNv=s64",
      "userId": "13210266879998244642"
     },
     "user_tz": -60
    },
    "id": "XJXa2Oye40K_",
    "outputId": "b64b2fa7-577a-48ee-aee3-cfcf3863eab4"
   },
   "outputs": [
    {
     "data": {
      "image/png": "[encoded data removed]",
      "text/plain": [
       "<Figure size 648x432 with 2 Axes>"
      ]
     },
     "metadata": {},
     "output_type": "display_data"
    }
   ],
   "source": [
    "# creating a confusion matrix \n",
    "knn_predictions = knn.predict(encoded_imgs)  \n",
    "cm = confusion_matrix(mnist_y_test, knn_predictions)\n",
    "pcm.plot_confmat(cm, [0,1,2,3,4,5,6,7,8,9], 'confusion_matrix.png')"
   ]
  },
  {
   "cell_type": "markdown",
   "metadata": {
    "id": "hUySdOkeaA_X"
   },
   "source": [
    "### KNN with All the Features\n",
    "\n",
    "Now let's train a classifier with all 784 features."
   ]
  },
  {
   "cell_type": "code",
   "execution_count": null,
   "metadata": {
    "colab": {
     "base_uri": "https://localhost:8080/"
    },
    "executionInfo": {
     "elapsed": 1026047,
     "status": "ok",
     "timestamp": 1608218140062,
     "user": {
      "displayName": "Michela Sperti",
      "photoUrl": "https://lh3.googleusercontent.com/a-/AOh14Gh7mD9r-1Xj0Qve63ZPZx9UHRv0PkVhL5ayiHNv=s64",
      "userId": "13210266879998244642"
     },
     "user_tz": -60
    },
    "id": "gXhGvgfpaDie",
    "outputId": "77131c54-cfd1-4b92-bde3-55a2e0ec89dc"
   },
   "outputs": [],
   "source": [
    "start = time.time()\n",
    "\n",
    "knn2 = KNeighborsClassifier(n_neighbors = 7).fit(mnist_x_train, mnist_y_train)\n",
    "\n",
    "# accuracy on X_test \n",
    "accuracy = knn2.score(mnist_x_test, mnist_y_test)  \n",
    "print('The accuracy on the test set is: ', accuracy)\n",
    "\n",
    "end = time.time()\n",
    "\n",
    "print('Running time', end - start, 'sec.') "
   ]
  },
  {
   "cell_type": "markdown",
   "metadata": {
    "id": "q-c0ZVIw3TfH"
   },
   "source": [
    "With all the features we get 97% accuracy (7% more than with just 8 features) but it takes 1000 times longer, around 16 minutes. If instead of 10000 observations we had few millions, this 1000 time gain will become not only significant but it may mean the difference between training a model or not being able to."
   ]
  },
  {
   "cell_type": "markdown",
   "metadata": {
    "id": "KVvL5CtKooYi"
   },
   "source": [
    "## MSE (MNIST Dataset)\n",
    "\n",
    "Autoencoders are so flexible that they work even if we use as loss function the MSE. We can try it quickly in the example below. More details about the loss functions are discussed in the book."
   ]
  },
  {
   "cell_type": "code",
   "execution_count": 35,
   "metadata": {
    "id": "CHeZ-jh-pIHN"
   },
   "outputs": [],
   "source": [
    "dim = 16\n",
    "\n",
    "input_img = Input(shape = (784,))\n",
    "encoded = Dense(dim, activation = 'relu')(input_img)\n",
    "decoded = Dense(784, activation = 'sigmoid')(encoded)\n",
    "\n",
    "autoencoder = Model(input_img, decoded)\n",
    "encoder = Model(input_img, encoded)"
   ]
  },
  {
   "cell_type": "code",
   "execution_count": 36,
   "metadata": {
    "id": "Yne4LJ5Qprml"
   },
   "outputs": [],
   "source": [
    "encoded_input = Input(shape = (dim,))\n",
    "decoder = autoencoder.layers[-1]\n",
    "decoder = Model(encoded_input, decoder(encoded_input))"
   ]
  },
  {
   "cell_type": "code",
   "execution_count": 37,
   "metadata": {
    "id": "x25we9gypuQ8"
   },
   "outputs": [],
   "source": [
    "autoencoder.compile(optimizer = 'adam', loss = 'mse')"
   ]
  },
  {
   "cell_type": "code",
   "execution_count": 38,
   "metadata": {
    "colab": {
     "base_uri": "https://localhost:8080/"
    },
    "executionInfo": {
     "elapsed": 1057668,
     "status": "ok",
     "timestamp": 1608218171698,
     "user": {
      "displayName": "Michela Sperti",
      "photoUrl": "https://lh3.googleusercontent.com/a-/AOh14Gh7mD9r-1Xj0Qve63ZPZx9UHRv0PkVhL5ayiHNv=s64",
      "userId": "13210266879998244642"
     },
     "user_tz": -60
    },
    "id": "4Wv5Cb89pwU7",
    "outputId": "28c93441-3fcf-46c1-8e1d-56dab3d0b85b"
   },
   "outputs": [
    {
     "data": {
      "text/plain": [
       "<keras.callbacks.History at 0x7fbb2a02d358>"
      ]
     },
     "execution_count": 38,
     "metadata": {},
     "output_type": "execute_result"
    }
   ],
   "source": [
    "autoencoder.fit(mnist_x_train, mnist_x_train,\n",
    "                epochs = 30,\n",
    "                batch_size = 256,\n",
    "                shuffle = True,\n",
    "                validation_data = (mnist_x_test, mnist_x_test),\n",
    "                verbose = 0)"
   ]
  },
  {
   "cell_type": "code",
   "execution_count": 39,
   "metadata": {
    "id": "eWvGMfR5pzBq"
   },
   "outputs": [],
   "source": [
    "encoded_imgs = encoder.predict(mnist_x_test)\n",
    "decoded_imgs = decoder.predict(encoded_imgs)"
   ]
  },
  {
   "cell_type": "code",
   "execution_count": 40,
   "metadata": {
    "colab": {
     "base_uri": "https://localhost:8080/",
     "height": 208
    },
    "executionInfo": {
     "elapsed": 1058913,
     "status": "ok",
     "timestamp": 1608218172949,
     "user": {
      "displayName": "Michela Sperti",
      "photoUrl": "https://lh3.googleusercontent.com/a-/AOh14Gh7mD9r-1Xj0Qve63ZPZx9UHRv0PkVhL5ayiHNv=s64",
      "userId": "13210266879998244642"
     },
     "user_tz": -60
    },
    "id": "AGuhZFYcp2Pc",
    "outputId": "014e29e3-ffc2-4940-a04e-2d0a82262d6c"
   },
   "outputs": [
    {
     "data": {
      "image/png": "[encoded data removed]",
      "text/plain": [
       "<Figure size 1440x288 with 20 Axes>"
      ]
     },
     "metadata": {},
     "output_type": "display_data"
    }
   ],
   "source": [
    "n = 10  # how many digits we will display\n",
    "\n",
    "fig = plt.figure(figsize=(20, 4))\n",
    "\n",
    "for i in range(n):\n",
    "\n",
    "    # display original\n",
    "    ax = plt.subplot(2, n, i + 1)\n",
    "    plt.imshow(mnist_x_test[i].reshape(28, 28))\n",
    "    plt.gray()\n",
    "    ax.get_xaxis().set_visible(False)\n",
    "    ax.get_yaxis().set_visible(False)\n",
    "\n",
    "    # display reconstruction\n",
    "    ax = plt.subplot(2, n, i + 1 + n)\n",
    "    plt.imshow(decoded_imgs[i].reshape(28, 28))\n",
    "    plt.gray()\n",
    "    ax.get_xaxis().set_visible(False)\n",
    "    ax.get_yaxis().set_visible(False)\n",
    "\n",
    "plt.show()\n",
    "\n",
    "#fig.savefig('comparison_MSE_16.png')"
   ]
  },
  {
   "cell_type": "markdown",
   "metadata": {
    "id": "qBAq_uiwp3wt"
   },
   "source": [
    "## Fashion MNIST\n",
    "\n",
    "We can use an autoencoder with the FASHION MNIST dataset now. We will just try to build one with 8 neurons in the middle layer."
   ]
  },
  {
   "cell_type": "code",
   "execution_count": 41,
   "metadata": {
    "colab": {
     "base_uri": "https://localhost:8080/"
    },
    "executionInfo": {
     "elapsed": 1116298,
     "status": "ok",
     "timestamp": 1608218230337,
     "user": {
      "displayName": "Michela Sperti",
      "photoUrl": "https://lh3.googleusercontent.com/a-/AOh14Gh7mD9r-1Xj0Qve63ZPZx9UHRv0PkVhL5ayiHNv=s64",
      "userId": "13210266879998244642"
     },
     "user_tz": -60
    },
    "id": "CH-E8OZ-s44c",
    "outputId": "c39af694-a36c-4da1-a64a-da5764cf5b9c"
   },
   "outputs": [
    {
     "name": "stdout",
     "output_type": "stream",
     "text": [
      "Epoch 1/30\n",
      "235/235 [==============================] - 1s 4ms/step - loss: 0.4637 - val_loss: 0.3879\n",
      "Epoch 2/30\n",
      "235/235 [==============================] - 1s 4ms/step - loss: 0.3643 - val_loss: 0.3498\n",
      "Epoch 3/30\n",
      "235/235 [==============================] - 1s 4ms/step - loss: 0.3418 - val_loss: 0.3393\n",
      "Epoch 4/30\n",
      "235/235 [==============================] - 1s 4ms/step - loss: 0.3345 - val_loss: 0.3337\n",
      "Epoch 5/30\n",
      "235/235 [==============================] - 1s 4ms/step - loss: 0.3297 - val_loss: 0.3297\n",
      "Epoch 6/30\n",
      "235/235 [==============================] - 1s 4ms/step - loss: 0.3261 - val_loss: 0.3265\n",
      "Epoch 7/30\n",
      "235/235 [==============================] - 1s 4ms/step - loss: 0.3231 - val_loss: 0.3237\n",
      "Epoch 8/30\n",
      "235/235 [==============================] - 1s 4ms/step - loss: 0.3208 - val_loss: 0.3218\n",
      "Epoch 9/30\n",
      "235/235 [==============================] - 1s 4ms/step - loss: 0.3191 - val_loss: 0.3203\n",
      "Epoch 10/30\n",
      "235/235 [==============================] - 1s 4ms/step - loss: 0.3178 - val_loss: 0.3192\n",
      "Epoch 11/30\n",
      "235/235 [==============================] - 1s 4ms/step - loss: 0.3169 - val_loss: 0.3184\n",
      "Epoch 12/30\n",
      "235/235 [==============================] - 1s 4ms/step - loss: 0.3163 - val_loss: 0.3179\n",
      "Epoch 13/30\n",
      "235/235 [==============================] - 1s 4ms/step - loss: 0.3158 - val_loss: 0.3176\n",
      "Epoch 14/30\n",
      "235/235 [==============================] - 1s 4ms/step - loss: 0.3155 - val_loss: 0.3173\n",
      "Epoch 15/30\n",
      "235/235 [==============================] - 1s 4ms/step - loss: 0.3153 - val_loss: 0.3171\n",
      "Epoch 16/30\n",
      "235/235 [==============================] - 1s 4ms/step - loss: 0.3150 - val_loss: 0.3169\n",
      "Epoch 17/30\n",
      "235/235 [==============================] - 1s 4ms/step - loss: 0.3149 - val_loss: 0.3168\n",
      "Epoch 18/30\n",
      "235/235 [==============================] - 1s 4ms/step - loss: 0.3147 - val_loss: 0.3167\n",
      "Epoch 19/30\n",
      "235/235 [==============================] - 1s 4ms/step - loss: 0.3146 - val_loss: 0.3165\n",
      "Epoch 20/30\n",
      "235/235 [==============================] - 1s 4ms/step - loss: 0.3145 - val_loss: 0.3164\n",
      "Epoch 21/30\n",
      "235/235 [==============================] - 1s 4ms/step - loss: 0.3144 - val_loss: 0.3163\n",
      "Epoch 22/30\n",
      "235/235 [==============================] - 1s 4ms/step - loss: 0.3143 - val_loss: 0.3162\n",
      "Epoch 23/30\n",
      "235/235 [==============================] - 1s 4ms/step - loss: 0.3142 - val_loss: 0.3161\n",
      "Epoch 24/30\n",
      "235/235 [==============================] - 1s 4ms/step - loss: 0.3141 - val_loss: 0.3161\n",
      "Epoch 25/30\n",
      "235/235 [==============================] - 1s 4ms/step - loss: 0.3140 - val_loss: 0.3160\n",
      "Epoch 26/30\n",
      "235/235 [==============================] - 1s 4ms/step - loss: 0.3140 - val_loss: 0.3160\n",
      "Epoch 27/30\n",
      "235/235 [==============================] - 1s 4ms/step - loss: 0.3139 - val_loss: 0.3159\n",
      "Epoch 28/30\n",
      "235/235 [==============================] - 1s 4ms/step - loss: 0.3138 - val_loss: 0.3158\n",
      "Epoch 29/30\n",
      "235/235 [==============================] - 1s 4ms/step - loss: 0.3138 - val_loss: 0.3158\n",
      "Epoch 30/30\n",
      "235/235 [==============================] - 1s 4ms/step - loss: 0.3137 - val_loss: 0.3157\n"
     ]
    },
    {
     "data": {
      "text/plain": [
       "<keras.callbacks.History at 0x7fbb18158d30>"
      ]
     },
     "execution_count": 41,
     "metadata": {},
     "output_type": "execute_result"
    }
   ],
   "source": [
    "autoencoder, encoder, decoder = create_autoencoders(8)\n",
    "autoencoder.compile(optimizer = 'adam', loss = 'binary_crossentropy')\n",
    "autoencoder.fit(fashion_x_train, fashion_x_train,\n",
    "                epochs = 30,\n",
    "                batch_size = 256,\n",
    "                shuffle = True,\n",
    "                validation_data = (fashion_x_test, fashion_x_test),\n",
    "                verbose = 1)"
   ]
  },
  {
   "cell_type": "code",
   "execution_count": 42,
   "metadata": {
    "id": "TcChJ6NCtYr1"
   },
   "outputs": [],
   "source": [
    "encoded_imgs = encoder.predict(fashion_x_test)\n",
    "decoded_imgs = decoder.predict(encoded_imgs)"
   ]
  },
  {
   "cell_type": "code",
   "execution_count": 43,
   "metadata": {
    "colab": {
     "base_uri": "https://localhost:8080/",
     "height": 208
    },
    "executionInfo": {
     "elapsed": 1118028,
     "status": "ok",
     "timestamp": 1608218232074,
     "user": {
      "displayName": "Michela Sperti",
      "photoUrl": "https://lh3.googleusercontent.com/a-/AOh14Gh7mD9r-1Xj0Qve63ZPZx9UHRv0PkVhL5ayiHNv=s64",
      "userId": "13210266879998244642"
     },
     "user_tz": -60
    },
    "id": "Q3WdZxsitKgk",
    "outputId": "d8854c0f-8b13-4951-90d5-eab7b81cc52a"
   },
   "outputs": [
    {
     "data": {
      "image/png": "[encoded data removed]",
      "text/plain": [
       "<Figure size 1440x288 with 20 Axes>"
      ]
     },
     "metadata": {},
     "output_type": "display_data"
    }
   ],
   "source": [
    "n = 10  # how many digits we will display\n",
    "\n",
    "plt.figure(figsize = (20, 4))\n",
    "\n",
    "for i in range(n):\n",
    "\n",
    "    # display original\n",
    "    ax = plt.subplot(2, n, i + 1)\n",
    "    plt.imshow(fashion_x_test[i].reshape(28, 28))\n",
    "    plt.gray()\n",
    "    ax.get_xaxis().set_visible(False)\n",
    "    ax.get_yaxis().set_visible(False)\n",
    "\n",
    "    # display reconstruction\n",
    "    ax = plt.subplot(2, n, i + 1 + n)\n",
    "    plt.imshow(decoded_imgs[i].reshape(28, 28))\n",
    "    plt.gray()\n",
    "    ax.get_xaxis().set_visible(False)\n",
    "    ax.get_yaxis().set_visible(False)\n",
    "\n",
    "plt.show()"
   ]
  },
  {
   "cell_type": "markdown",
   "metadata": {
    "id": "_SGHRd1tCobZ"
   },
   "source": [
    "And again we can try to build a classifier with all the data. Also in this case, as it would be expected, it take almost 16 minutes. Quite a long time."
   ]
  },
  {
   "cell_type": "code",
   "execution_count": 44,
   "metadata": {
    "colab": {
     "base_uri": "https://localhost:8080/"
    },
    "executionInfo": {
     "elapsed": 2009988,
     "status": "ok",
     "timestamp": 1608219124037,
     "user": {
      "displayName": "Michela Sperti",
      "photoUrl": "https://lh3.googleusercontent.com/a-/AOh14Gh7mD9r-1Xj0Qve63ZPZx9UHRv0PkVhL5ayiHNv=s64",
      "userId": "13210266879998244642"
     },
     "user_tz": -60
    },
    "id": "L1nP0LVDtT-3",
    "outputId": "66b8b730-2688-4a50-da93-e36b049c5980"
   },
   "outputs": [
    {
     "name": "stdout",
     "output_type": "stream",
     "text": [
      "The accuracy on the test set is:  0.854\n",
      "Running time 14.874826192855835 sec.\n"
     ]
    }
   ],
   "source": [
    "start = time.time()\n",
    "\n",
    "knn = KNeighborsClassifier(n_neighbors = 7).fit(fashion_x_train, fashion_y_train) \n",
    "\n",
    "# accuracy on X_test \n",
    "accuracy = knn.score(fashion_x_test, fashion_y_test) \n",
    "print('The accuracy on the test set is: ', accuracy)\n",
    "\n",
    "end = time.time()\n",
    "\n",
    "print('Running time', end - start, 'sec.') "
   ]
  },
  {
   "cell_type": "markdown",
   "metadata": {
    "id": "7z1rIeQ-iEJT"
   },
   "source": [
    "### KNN on Learned Representation"
   ]
  },
  {
   "cell_type": "code",
   "execution_count": 45,
   "metadata": {
    "id": "YL9BbtyRh23b"
   },
   "outputs": [],
   "source": [
    "encoded_fashion_train_imgs = encoder.predict(fashion_x_train)\n",
    "encoded_fashion_test_imgs = encoder.predict(fashion_x_test)"
   ]
  },
  {
   "cell_type": "code",
   "execution_count": 46,
   "metadata": {
    "colab": {
     "base_uri": "https://localhost:8080/"
    },
    "executionInfo": {
     "elapsed": 2012595,
     "status": "ok",
     "timestamp": 1608219126650,
     "user": {
      "displayName": "Michela Sperti",
      "photoUrl": "https://lh3.googleusercontent.com/a-/AOh14Gh7mD9r-1Xj0Qve63ZPZx9UHRv0PkVhL5ayiHNv=s64",
      "userId": "13210266879998244642"
     },
     "user_tz": -60
    },
    "id": "FS2Q4_AKiL5-",
    "outputId": "57a25add-0cd5-4002-f0f1-216e9544ad72"
   },
   "outputs": [
    {
     "name": "stdout",
     "output_type": "stream",
     "text": [
      "The accuracy on the test set is:  0.7914\n",
      "Running time 0.5288503170013428 sec.\n"
     ]
    }
   ],
   "source": [
    "start = time.time()\n",
    " \n",
    "# training a KNN classifier \n",
    "knn = KNeighborsClassifier(n_neighbors = 7).fit(encoded_fashion_train_imgs, fashion_y_train) \n",
    "  \n",
    "# accuracy on X_test \n",
    "accuracy = knn.score(encoded_fashion_test_imgs, fashion_y_test) \n",
    "print('The accuracy on the test set is: ', accuracy)\n",
    "\n",
    "end = time.time()\n",
    "print('Running time', end - start, 'sec.') "
   ]
  },
  {
   "cell_type": "markdown",
   "metadata": {
    "id": "wdEdeWCLEt-O"
   },
   "source": [
    "So again we loose ca. 5% of accuracy but we are 1000 times faster. Quite impressive. "
   ]
  },
  {
   "cell_type": "markdown",
   "metadata": {
    "id": "EopH1TOuiX7J"
   },
   "source": [
    "### KNN Accuracy with an Autoencoder with Number of Neurons in the Layers $(784,16,784)$"
   ]
  },
  {
   "cell_type": "code",
   "execution_count": 47,
   "metadata": {
    "colab": {
     "base_uri": "https://localhost:8080/"
    },
    "executionInfo": {
     "elapsed": 2062626,
     "status": "ok",
     "timestamp": 1608219176684,
     "user": {
      "displayName": "Michela Sperti",
      "photoUrl": "https://lh3.googleusercontent.com/a-/AOh14Gh7mD9r-1Xj0Qve63ZPZx9UHRv0PkVhL5ayiHNv=s64",
      "userId": "13210266879998244642"
     },
     "user_tz": -60
    },
    "id": "8PPfUo28mIgX",
    "outputId": "dab38586-7018-4caf-8b19-9128146df6d6"
   },
   "outputs": [
    {
     "data": {
      "text/plain": [
       "<keras.callbacks.History at 0x7fbb106c9cf8>"
      ]
     },
     "execution_count": 47,
     "metadata": {},
     "output_type": "execute_result"
    }
   ],
   "source": [
    "autoencoder, encoder, decoder = create_autoencoders (16)\n",
    "autoencoder.compile(optimizer = 'adam', loss = 'binary_crossentropy')\n",
    "autoencoder.fit(fashion_x_train, fashion_x_train,\n",
    "                epochs = 30,\n",
    "                batch_size = 256,\n",
    "                shuffle = True,\n",
    "                validation_data = (fashion_x_test, fashion_x_test),\n",
    "                verbose = 0)"
   ]
  },
  {
   "cell_type": "code",
   "execution_count": 48,
   "metadata": {
    "id": "nuAhbpAQmJqN"
   },
   "outputs": [],
   "source": [
    "encoded_fashion_train_imgs = encoder.predict(fashion_x_train)\n",
    "encoded_fashion_test_imgs = encoder.predict(fashion_x_test)"
   ]
  },
  {
   "cell_type": "code",
   "execution_count": 49,
   "metadata": {
    "colab": {
     "base_uri": "https://localhost:8080/"
    },
    "executionInfo": {
     "elapsed": 2066929,
     "status": "ok",
     "timestamp": 1608219180995,
     "user": {
      "displayName": "Michela Sperti",
      "photoUrl": "https://lh3.googleusercontent.com/a-/AOh14Gh7mD9r-1Xj0Qve63ZPZx9UHRv0PkVhL5ayiHNv=s64",
      "userId": "13210266879998244642"
     },
     "user_tz": -60
    },
    "id": "44ogzPh1mO9l",
    "outputId": "7225f474-dd22-4c45-d28c-3c88c6baca34"
   },
   "outputs": [
    {
     "name": "stdout",
     "output_type": "stream",
     "text": [
      "The accuracy on the test set is:  0.8372\n",
      "Running time 10.549169301986694 sec.\n"
     ]
    }
   ],
   "source": [
    "start = time.time()\n",
    " \n",
    "# training a KNN classifier \n",
    "knn = KNeighborsClassifier(n_neighbors = 7).fit(encoded_fashion_train_imgs, fashion_y_train) \n",
    "  \n",
    "# accuracy on X_test \n",
    "accuracy = knn.score(encoded_fashion_test_imgs, fashion_y_test) \n",
    "print('The accuracy on the test set is: ', accuracy)\n",
    "\n",
    "end = time.time()\n",
    "print('Running time', end - start, 'sec.') "
   ]
  },
  {
   "cell_type": "markdown",
   "metadata": {
    "id": "It2Kf7opE7Pm"
   },
   "source": [
    "Now increasing the number of neurons in the middle layer to 16 will give us an accuracy equal to 84% in 3 seconds. A minor increase in running time that is well worth! Still doing the same classification with all the features would require 1000 sec."
   ]
  },
  {
   "cell_type": "markdown",
   "metadata": {
    "id": "vfOxC86D6b8G"
   },
   "source": [
    "## Exercises"
   ]
  },
  {
   "cell_type": "markdown",
   "metadata": {
    "id": "ExgkY36I6esu"
   },
   "source": [
    "1. [*Easy Difficulty*] Try to build yourself three different autoencoders with the following layers: $(784,64,784)$, $(784,16,784)$ and $(784,8,784)$ and apply them to the FASHION MNIST dataset. Then, plot together the original version of the images and the encoded ones. See how results change in each case and decide which is the best trade-off between images' resolution and size.\n",
    "2. [*Medium Difficulty*] Try the same autoencoders you developed in Exercise 1, adding one hidden layer of 300 units inside the encoder and another identical one inside the decoder. See how plots change, always comparing results with the original images.\n",
    "3. [*Medium Difficulty*] Try the notebook on another online dataset, for example this: https://www.kaggle.com/andrewmvd/animal-faces (containing 16130 high-quality images of cats, dogs and wildlife animals at 512×512 resolution).\n",
    "4. [*Hard Difficulty*] Using the autoencoder you developed in Exercise 2 (the one with two hidden layers) try to visualize the features learned by the autoencoder itself, in the following way: for each neuron in the first hidden layer create an image where a pixel's intensity corresponds to the weight of the connection to the neuron itself."
   ]
  },
  {
   "cell_type": "code",
   "execution_count": null,
   "metadata": {
    "id": "1899cKxa6m1F"
   },
   "outputs": [],
   "source": []
  }
 ],
 "metadata": {
  "colab": {
   "collapsed_sections": [],
   "name": "Your_first_autoencoder_with_Keras.ipynb",
   "provenance": [],
   "toc_visible": true
  },
  "kernelspec": {
   "display_name": "Python 3 (ipykernel)",
   "language": "python",
   "name": "python3"
  },
  "language_info": {
   "codemirror_mode": {
    "name": "ipython",
    "version": 3
   },
   "file_extension": ".py",
   "mimetype": "text/x-python",
   "name": "python",
   "nbconvert_exporter": "python",
   "pygments_lexer": "ipython3",
   "version": "3.7.2"
  }
 },
 "nbformat": 4,
 "nbformat_minor": 4
}
